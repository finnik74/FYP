{
 "cells": [
  {
   "cell_type": "code",
   "execution_count": 2,
   "metadata": {},
   "outputs": [
    {
     "name": "stdout",
     "output_type": "stream",
     "text": [
      "wwwww\n",
      "123123 ui\n"
     ]
    }
   ],
   "source": [
    "print(\"wwwww\")\n",
    "from qwe import print123\n",
    "\n",
    "print123()"
   ]
  }
 ],
 "metadata": {
  "kernelspec": {
   "display_name": "base",
   "language": "python",
   "name": "python3"
  },
  "language_info": {
   "codemirror_mode": {
    "name": "ipython",
    "version": 3
   },
   "file_extension": ".py",
   "mimetype": "text/x-python",
   "name": "python",
   "nbconvert_exporter": "python",
   "pygments_lexer": "ipython3",
   "version": "3.9.12"
  },
  "orig_nbformat": 4,
  "vscode": {
   "interpreter": {
    "hash": "fcd0037efe79e1a695b24edc41e89cfebe086ee576a2e52fc0561865e5fec26d"
   }
  }
 },
 "nbformat": 4,
 "nbformat_minor": 2
}
