{
 "cells": [
  {
   "attachments": {},
   "cell_type": "markdown",
   "metadata": {},
   "source": [
    "* 关于baylime方向：将lime和baylime用户上传图片放在binder里\n",
    "* 要不要做个documentation\n",
    "* 关于baylime bay_info和full中的先验文件是怎么作用的 为什么是60多个\n",
    "* feature个数\n",
    "* full中是如何获得噪声分布的\n",
    "* 能不能用显著性替代先验数据"
   ]
  },
  {
   "attachments": {},
   "cell_type": "markdown",
   "metadata": {},
   "source": [
    "The overall aim of this one year project is to build a website for BayLIME users with features that may facilitate the practiical use of BayLIME and thus increase its impact.\n",
    "\n",
    "To full fill the the aim, we break down the long term goal into several objectives as what follows:\n",
    "1. Learn basics of XAI techniqies and bayesian methods.\n",
    "2. Understand thoroughly the how lime and baylime work, and optimise the source code.. blah..\n",
    "3. introduce tutorials of applying BayLIME in various scenarios.\n",
    "3. Develop the website, blah ...\n",
    "4. test the website blah...\n",
    "\n",
    "\n",
    "Generally, the overall objective of this project is to build a BayLIME website for BayLIME to boost the wider use of BayLIME\n",
    "and its impact.\n",
    "* Know and understand the development and basic principle of XAI and Bayesian methods;\n",
    "* Optimise the source code of the backend prototype tool of LIME and BayLIME, making them briefer, efficient, and easier\n",
    "to customize;\n",
    "* Give users guidance and tutorials of applying BayLIME in various scenario;\n",
    "* Design and implement a web-based front-end UI for BayLIME, giving users simple approaches to use BayLIME;\n",
    "* Test the reliability and robustness of website by pytest and collect the user feedback for improvements.\n",
    "\n",
    "* 了解XAI和贝叶斯方法的发展和基本原理;\n",
    "* 优化LIME和BayLIME后端原型工具的源代码，使它们更简洁，高效，更容易\n",
    "定制;\n",
    "* 为用户提供BayLIME在各种场景下的应用指导和教程;\n",
    "* 为BayLIME设计并实现基于web的前端UI，为用户提供简单的使用BayLIME的方法;\n",
    "* 通过pytest测试网站的可靠性和鲁棒性，并收集用户反馈进行改进。"
   ]
  },
  {
   "cell_type": "markdown",
   "source": [
    "## u0 lambda\n",
    "## part full jump to\n",
    "## top_feature\n",
    "\n",
    "1. 显示u0 lambda\n",
    "2. top_feature 选择\n",
    "3. 显示不一致的问题\n",
    "4.\n"
   ],
   "metadata": {
    "collapsed": false,
    "pycharm": {
     "name": "#%% md\n"
    }
   }
  },
  {
   "cell_type": "markdown",
   "source": [
    "1.视频能否剪辑 是否有什么不完善的地方\n",
    "2.答辩内容\n"
   ],
   "metadata": {
    "collapsed": false,
    "pycharm": {
     "name": "#%% md\n"
    }
   }
  },
  {
   "cell_type": "code",
   "execution_count": null,
   "outputs": [],
   "source": [],
   "metadata": {
    "collapsed": false,
    "pycharm": {
     "name": "#%%\n"
    }
   }
  }
 ],
 "metadata": {
  "kernelspec": {
   "display_name": "Python 3",
   "language": "python",
   "name": "python3"
  },
  "language_info": {
   "codemirror_mode": {
    "name": "ipython",
    "version": 2
   },
   "file_extension": ".py",
   "mimetype": "text/x-python",
   "name": "python",
   "nbconvert_exporter": "python",
   "pygments_lexer": "ipython2",
   "version": "3.9.6 (default, Aug  5 2022, 15:21:02) \n[Clang 14.0.0 (clang-1400.0.29.102)]"
  },
  "vscode": {
   "interpreter": {
    "hash": "31f2aee4e71d21fbe5cf8b01ff0e069b9275f58929596ceb00d14d90e3e16cd6"
   }
  }
 },
 "nbformat": 4,
 "nbformat_minor": 0
}